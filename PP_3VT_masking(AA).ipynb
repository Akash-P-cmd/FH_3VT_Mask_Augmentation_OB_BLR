{
 "cells": [
  {
   "cell_type": "code",
   "execution_count": 1,
   "id": "3c371aa7",
   "metadata": {},
   "outputs": [],
   "source": [
    "import numpy as np\n",
    "import cv2\n",
    "import os\n",
    "import matplotlib.pyplot as plt"
   ]
  },
  {
   "cell_type": "code",
   "execution_count": 2,
   "id": "a387a499",
   "metadata": {},
   "outputs": [],
   "source": [
    "#img_path='C:\\\\Users\\\\320152549\\\\OneDrive - Philips\\\\Desktop\\\\KT_material\\\\Image_inpainting\\\\PP_Model_Data\\\\autolabel_evaluation_mar22\\\\Test_data\\\\images\\\\'\n",
    "#mask_path='C:\\\\Users\\\\320152549\\\\OneDrive - Philips\\\\Desktop\\\\KT_material\\\\Image_inpainting\\\\PP_Model_Data\\\\autolabel_evaluation_mar22\\\\Test_data\\\\old_model_masks\\\\'\n",
    "\n",
    "img_path='C:\\\\Users\\\\320152549\\\\OneDrive - Philips\\\\Desktop\\\\KT_material\\\\Image_inpainting\\\\final_PP_model\\\\Val_data\\\\3VT_Val\\\\3VT_Val_Images\\\\'\n",
    "mask_path='C:\\\\Users\\\\320152549\\\\OneDrive - Philips\\\\Desktop\\\\KT_material\\\\Image_inpainting\\\\final_PP_model\\\\Val_data\\\\3VT_Val\\\\3VT_Val_Labels_modified_gray\\\\'"
   ]
  },
  {
   "cell_type": "code",
   "execution_count": 3,
   "id": "5a3bc2c3",
   "metadata": {},
   "outputs": [],
   "source": [
    "files=os.listdir(img_path)"
   ]
  },
  {
   "cell_type": "code",
   "execution_count": 4,
   "id": "a1e817dc",
   "metadata": {},
   "outputs": [],
   "source": [
    "for file in files:\n",
    "    img = cv2.imread(img_path+file)\n",
    "    mask = cv2.imread(mask_path+file,0)\n",
    "  # AA=1 & DA=2 for mask value  \n",
    "    mask[mask!=1]=0\n",
    "    mask[mask==1]=255\n",
    "\n",
    "    mask1 = cv2.bitwise_not(mask)\n",
    "    \n",
    "    restored1 = img.copy()\n",
    "    #restored2 = img.copy()\n",
    "    \n",
    "    cv2.xphoto.inpaint(img, mask1, restored1, cv2.xphoto.INPAINT_FSR_FAST)\n",
    "    #cv2.xphoto.inpaint(img, mask1, restored2, cv2.xphoto.INPAINT_FSR_BEST)\n",
    "    \n",
    "\n",
    "    dst3 = cv2.cvtColor(restored1, cv2.COLOR_BGR2RGB)\n",
    "    #dst4 = cv2.cvtColor(restored2, cv2.COLOR_BGR2RGB)\n",
    "    \n",
    "    FSR_Fast_path='C:\\\\Users\\\\320152549\\\\OneDrive - Philips\\\\Desktop\\\\KT_material\\\\Image_inpainting\\\\final_PP_model\\\\Val_data\\\\3VT_Val_masked\\\\FSR_Fast\\\\AA'       \n",
    "    #FSR_Best_path='C:\\\\Users\\\\320152549\\\\OneDrive - Philips\\\\Desktop\\\\KT_material\\\\Image_inpainting\\\\PP_Model_Data\\\\autolabel_evaluation_mar22\\\\Test_data\\\\masked_data\\\\AA\\\\Best'\n",
    "    \n",
    "\n",
    "    cv2.imwrite(os.path.join(FSR_Fast_path,file),dst3)\n",
    "    #cv2.imwrite(os.path.join(FSR_Best_path,file),dst4)\n",
    "    \n"
   ]
  },
  {
   "cell_type": "code",
   "execution_count": null,
   "id": "c7919a5a",
   "metadata": {},
   "outputs": [],
   "source": []
  }
 ],
 "metadata": {
  "kernelspec": {
   "display_name": "Python [conda env:ImgInpaint_Demo]",
   "language": "python",
   "name": "conda-env-ImgInpaint_Demo-py"
  },
  "language_info": {
   "codemirror_mode": {
    "name": "ipython",
    "version": 3
   },
   "file_extension": ".py",
   "mimetype": "text/x-python",
   "name": "python",
   "nbconvert_exporter": "python",
   "pygments_lexer": "ipython3",
   "version": "3.7.13"
  }
 },
 "nbformat": 4,
 "nbformat_minor": 5
}
